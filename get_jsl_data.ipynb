{
 "cells": [
  {
   "cell_type": "code",
   "execution_count": 1,
   "id": "1854be00",
   "metadata": {},
   "outputs": [],
   "source": [
    "from sklearn.preprocessing import MinMaxScaler\n",
    "import pandas as pd\n",
    "import matplotlib.pyplot as plt\n",
    "import akshare as ak\n",
    "import warnings\n",
    "from datetime import datetime\n",
    "from datetime import date\n",
    "import datetime as dt\n",
    "import numpy as np\n",
    "import browser_cookie3\n",
    "import requests\n",
    "import chinese_calendar\n",
    "import time"
   ]
  },
  {
   "cell_type": "code",
   "execution_count": 2,
   "id": "8abac27f",
   "metadata": {},
   "outputs": [
    {
     "name": "stdout",
     "output_type": "stream",
     "text": [
      "{'kbzw__user_login': '7Obd08_P1ebax9aX4dfk29_gpquCq47k2ujc8NvpxtS-oqusq8Wgltet2aKypa-WrZGuqKPewqTDqqmryqye3cPYgrKk6OHFzr6fq6mdsI2yj7e11dSeqZigla2wrJ-ppJido7a41dCjrt_b3eXhyqihpZKWic7g4dzQ59SUx8mJqpylkrGBzuDhrpWrgeyvqaSZ3u2cp5OopaOhgbfG1-TkmKucqJKmkqeok77K4sba6O2Yqp6okKY.', 'kbzw__Session': '7qpa7r8om8qvjqsdo1d9uf02v1'}\n"
     ]
    }
   ],
   "source": [
    "#首先打开firfox浏览器并登录集思录**********************************************\n",
    "#获取集思录的cookie\n",
    "#cj = browser_cookie3.chrome(domain_name=\"www.jisilu.cn\") # firefox可以替换为browser_cookie3.firefox()\n",
    "cj = browser_cookie3.firefox(domain_name=\"www.jisilu.cn\") # firefox可以替换为browser_cookie3.firefox()\n",
    "url=\"https://www.jisilu.cn/web/data/cb/list\"\n",
    "r_jsl = requests.get(url, cookies=cj)\n",
    "cookie_dict={}\n",
    "for cookie_i in cj:\n",
    "    cookie_dict[cookie_i.name]=cookie_i.value\n",
    "print(cookie_dict)"
   ]
  },
  {
   "cell_type": "code",
   "execution_count": 3,
   "id": "747d79e4",
   "metadata": {},
   "outputs": [
    {
     "name": "stdout",
     "output_type": "stream",
     "text": [
      "kbz_newcookie=1;kbzw__user_login=7Obd08_P1ebax9aX4dfk29_gpquCq47k2ujc8NvpxtS-oqusq8Wgltet2aKypa-WrZGuqKPewqTDqqmryqye3cPYgrKk6OHFzr6fq6mdsI2yj7e11dSeqZigla2wrJ-ppJido7a41dCjrt_b3eXhyqihpZKWic7g4dzQ59SUx8mJqpylkrGBzuDhrpWrgeyvqaSZ3u2cp5OopaOhgbfG1-TkmKucqJKmkqeok77K4sba6O2Yqp6okKY.;kbzw__Session=7qpa7r8om8qvjqsdo1d9uf02v1;\n"
     ]
    }
   ],
   "source": [
    "#通过前面的字典cookie_dict{}来构造集思录的cookie，达到自动化取得cookie的目的。\n",
    "cookie_jsl=\"kbz_newcookie=1;\"+\"kbzw__user_login=\"+cookie_dict[\"kbzw__user_login\"]+\";\"+\"kbzw__Session=\"+cookie_dict[\"kbzw__Session\"]+\";\"\n",
    "print(cookie_jsl)"
   ]
  },
  {
   "cell_type": "code",
   "execution_count": 4,
   "id": "9107c0c1",
   "metadata": {},
   "outputs": [
    {
     "name": "stdout",
     "output_type": "stream",
     "text": [
      "Index(['id', 'cell.bond_id', 'cell.bond_nm', 'cell.bond_py', 'cell.price',\n",
      "       'cell.increase_rt', 'cell.stock_id', 'cell.stock_nm', 'cell.stock_py',\n",
      "       'cell.sprice', 'cell.sincrease_rt', 'cell.pb', 'cell.convert_price',\n",
      "       'cell.convert_value', 'cell.convert_dt', 'cell.premium_rt',\n",
      "       'cell.bond_premium_rt', 'cell.dblow', 'cell.adjust_condition',\n",
      "       'cell.sw_cd', 'cell.market_cd', 'cell.btype', 'cell.list_dt',\n",
      "       'cell.owned', 'cell.hold', 'cell.bond_value', 'cell.rating_cd',\n",
      "       'cell.option_value', 'cell.volatility_rate', 'cell.put_convert_price',\n",
      "       'cell.force_redeem_price', 'cell.convert_amt_ratio', 'cell.fund_rt',\n",
      "       'cell.maturity_dt', 'cell.year_left', 'cell.curr_iss_amt',\n",
      "       'cell.volume', 'cell.svolume', 'cell.turnover_rt', 'cell.ytm_rt',\n",
      "       'cell.put_ytm_rt', 'cell.notes', 'cell.noted', 'cell.last_time',\n",
      "       'cell.qstatus', 'cell.sqflag', 'cell.pb_flag', 'cell.adj_cnt',\n",
      "       'cell.adj_scnt', 'cell.convert_price_valid', 'cell.convert_price_tips',\n",
      "       'cell.convert_cd_tip', 'cell.ref_yield_info', 'cell.adjusted',\n",
      "       'cell.orig_iss_amt', 'cell.price_tips', 'cell.redeem_dt',\n",
      "       'cell.real_force_redeem_price', 'cell.option_tip', 'cell.adjust_status',\n",
      "       'cell.unadj_cnt', 'cell.after_next_put_dt', 'cell.adjust_remain_days',\n",
      "       'cell.adjust_orders', 'cell.icons.M', 'cell.icons', 'cell.icons.R',\n",
      "       'cell.icons.G', 'cell.icons.B', 'cell.icons.EX'],\n",
      "      dtype='object')\n"
     ]
    }
   ],
   "source": [
    "cookie=\"kbz_newcookie=1; kbzw__user_login=7Obd08_P1ebax9aX4dfk29_gpquCq47k2ujc8NvpxtS-oqusq8Wgltet2aKypa-WrZGuqKPewqTDqqmryqye3cPYgrKk6OHFzr6fq6mdsI2yj7e11dSeqZeplqewrJ-ppZido7a41dCjrt_b3eXhyqihpZKWic7g4dzQ59SUx8mJqpylkrGBzuDhrpWrgeyvqaSZ3u2cp5GwpaOhgbfG1-TkmKucqJKmkqeok77K4sba6O2Yqp2ukKY.; kbzw__Session=3i5isc90muf7kpmd3ss6e4noh7;\"\n",
    "\n",
    "# 通过akshare提供的库获取可转债数据\n",
    "# stock_zh_a_spot_em_df = ak.bond_cb_jsl(cookie=cookie)\n",
    "\n",
    "# 通过efinance提供的库获取可转债数据\n",
    "#import efinance as ef\n",
    "# print(ef.bond.get_realtime_quotes())\n",
    "\n",
    "# 通过集思录api获取可转债数据\n",
    "import requests\n",
    "def get_cb_data():\n",
    "  headers_jsl={'User-Agent':'Mozilla/5.0 (Windows NT 10.0; Win64; x64; rv:94.0) Gecko/20100101 Firefox/94.0', 'Cookie': cookie_jsl}\n",
    "  url='https://www.jisilu.cn/data/cbnew/cb_list_new/?___jsl=LST___t=1637410410639'\n",
    "  response = requests.get(url,headers=headers_jsl)\n",
    "  data = response.json()\n",
    "  df = pd.json_normalize(data['rows'])\n",
    "  # df = df.rename(columns={'cell.bond_id': '代码','cell.bond_nm':'简称'})      #对索引进行重命名\n",
    "  # df = df.drop(columns=['id']) # 删除特定的列\n",
    "  # df = df[['代码','简称']] # 保留的数据\n",
    "  return df\n",
    "\n",
    "print(get_cb_data().columns)\n",
    "get_cb_data().to_csv('可转债测试.csv', index=False)\n",
    "get_cb_data().to_excel(\"./out/get_cb_data.xlsx\", sheet_name='Sheet1', index=True)"
   ]
  }
 ],
 "metadata": {
  "kernelspec": {
   "display_name": "Python 3 (ipykernel)",
   "language": "python",
   "name": "python3"
  },
  "language_info": {
   "codemirror_mode": {
    "name": "ipython",
    "version": 3
   },
   "file_extension": ".py",
   "mimetype": "text/x-python",
   "name": "python",
   "nbconvert_exporter": "python",
   "pygments_lexer": "ipython3",
   "version": "3.11.3"
  }
 },
 "nbformat": 4,
 "nbformat_minor": 5
}
